{
 "cells": [
  {
   "cell_type": "code",
   "execution_count": 24,
   "id": "6e74612e",
   "metadata": {},
   "outputs": [],
   "source": [
    "import numpy as np\n",
    "import matplotlib.pyplot as plt\n",
    "import random\n",
    "import pandas as pd\n",
    "import seaborn as sns\n",
    "from sklearn.model_selection import train_test_split"
   ]
  },
  {
   "cell_type": "code",
   "execution_count": 3,
   "id": "453eead4",
   "metadata": {},
   "outputs": [],
   "source": [
    "np.random.seed(42)\n",
    "random.seed(42)"
   ]
  },
  {
   "cell_type": "code",
   "execution_count": 4,
   "id": "6bf42b7d",
   "metadata": {},
   "outputs": [],
   "source": [
    "n_samples = 2000\n",
    "\n",
    "u = np.random.uniform(0, 1, n_samples)\n",
    "X = np.column_stack((u, np.zeros(n_samples)))\n",
    "\n",
    "z = np.random.uniform(-1, 0, n_samples)\n",
    "Y = np.column_stack((z, np.zeros(n_samples)))"
   ]
  },
  {
   "cell_type": "code",
   "execution_count": 5,
   "id": "8355681f",
   "metadata": {},
   "outputs": [
    {
     "data": {
      "image/png": "[encoded data removed]",
      "text/plain": [
       "<Figure size 800x400 with 1 Axes>"
      ]
     },
     "metadata": {},
     "output_type": "display_data"
    }
   ],
   "source": [
    "plt.figure(figsize=(8, 4))\n",
    "plt.scatter(X[:, 0], X[:, 1], color='blue', label='Class X', alpha=0.5)\n",
    "plt.scatter(Y[:, 0], Y[:, 1], color='red', label='Class Y', alpha=0.1)\n",
    "plt.xlabel(\"x1\")\n",
    "plt.ylabel(\"x2\")\n",
    "plt.title(\"Samples from Class X and Y\")\n",
    "plt.legend()\n",
    "plt.grid(True)\n",
    "plt.show()"
   ]
  },
  {
   "cell_type": "code",
   "execution_count": 6,
   "id": "e994fcdb",
   "metadata": {},
   "outputs": [
    {
     "name": "stdout",
     "output_type": "stream",
     "text": [
      "(4000, 2)\n",
      "(4000,)\n"
     ]
    }
   ],
   "source": [
    "X_data = np.vstack([X, Y])\n",
    "y = np.array([0] * n_samples + [1] * n_samples)\n",
    "\n",
    "print(X_data.shape)\n",
    "print(y.shape)"
   ]
  },
  {
   "cell_type": "code",
   "execution_count": 7,
   "id": "1e5a62cb",
   "metadata": {},
   "outputs": [
    {
     "name": "stdout",
     "output_type": "stream",
     "text": [
      "(4000, 2)\n",
      "(4000,)\n"
     ]
    }
   ],
   "source": [
    "indices = list(range(X_data.shape[0]))\n",
    "np.random.shuffle(indices)\n",
    "\n",
    "X = X_data[indices]\n",
    "y = y[indices]\n",
    "\n",
    "print(X.shape)\n",
    "print(y.shape)"
   ]
  },
  {
   "cell_type": "markdown",
   "id": "35dc5624",
   "metadata": {},
   "source": [
    "### Splitting Data"
   ]
  },
  {
   "cell_type": "code",
   "execution_count": 8,
   "id": "8a9d2e8c",
   "metadata": {},
   "outputs": [
    {
     "name": "stdout",
     "output_type": "stream",
     "text": [
      "(3200, 2) (800, 2)\n",
      "(3200,) (800,)\n"
     ]
    }
   ],
   "source": [
    "X_train, X_test, y_train, y_test = train_test_split(X, y, test_size=0.2, shuffle=True)\n",
    "\n",
    "print(X_train.shape, X_test.shape)  \n",
    "print(y_train.shape, y_test.shape)  \n"
   ]
  },
  {
   "cell_type": "markdown",
   "id": "6aa481aa",
   "metadata": {},
   "source": [
    "## 📌 k-Nearest Neighbors (KNN) Classifier\n",
    "\n",
    "**k-Nearest Neighbors (KNN)** is a simple, yet powerful, non-parametric supervised learning algorithm used for both classification and regression tasks. It is an **instance-based** or **lazy learner**, meaning it does not build an explicit model but makes predictions based on the entire training data.\n",
    "\n",
    "### 🔢 How KNN Works (for Classification):\n",
    "\n",
    "1. For a given test point, calculate its distance to all training samples using a distance metric (in our case, **Euclidean distance**).\n",
    "2. Select the **k nearest neighbors** (samples with the smallest distances).\n",
    "3. Assign the class label that is **most frequent** among these k neighbors.\n",
    "\n",
    "### 📐 Euclidean Distance Formula:\n",
    "\n",
    "For two vectors $ \\mathbf{x} = [x_1, x_2] $ and $ \\mathbf{y} = [y_1, y_2] $, the Euclidean distance is:\n",
    "\n",
    "$$\n",
    "d(\\mathbf{x}, \\mathbf{y}) = \\sqrt{(x_1 - y_1)^2 + (x_2 - y_2)^2}\n",
    "$$\n",
    "\n",
    "### 🎯 Choice of k:\n",
    "\n",
    "- $k = 1$: very flexible, but may lead to **overfitting**.\n",
    "- Larger $k$: smoother decision boundary, better generalization, but may cause **underfitting**.\n",
    "- The **optimal value of k** is usually chosen using cross-validation.\n",
    "\n",
    "### ✅ Evaluation Metric: Accuracy\n",
    "\n",
    "After predicting labels for the test set, we compute **accuracy** as:\n",
    "\n",
    "$$\n",
    "\\text{Accuracy} = \\frac{\\text{Number of correct predictions}}{\\text{Total number of predictions}}\n",
    "$$\n",
    "\n",
    "We will evaluate the KNN classifier with the following values of $k$: **1, 5, 20, 50**, and report the accuracy on the test data.\n"
   ]
  },
  {
   "cell_type": "code",
   "execution_count": 9,
   "id": "2ea67be6",
   "metadata": {},
   "outputs": [],
   "source": [
    "def euclidean_distance(X, a):\n",
    "    return np.sqrt(np.sum((X - a) ** 2, axis=1))"
   ]
  },
  {
   "cell_type": "code",
   "execution_count": 12,
   "id": "fa096cfb",
   "metadata": {},
   "outputs": [],
   "source": [
    "def knn(X_train, X_test, y_train, k=1, distance_metric=euclidean_distance):\n",
    "    y_pred = []\n",
    "\n",
    "    for test_point in X_test:\n",
    "        distances = distance_metric(X_train, test_point)\n",
    "        nearest_indices = np.argsort(distances)[:k]\n",
    "        k_neighbors_classes = y_train[nearest_indices]\n",
    "        k_neighbors_distances = distances[nearest_indices]\n",
    "\n",
    "        class_counts = np.bincount(k_neighbors_classes)\n",
    "        max_count = np.max(class_counts)\n",
    "        majority_classes = np.where(class_counts == max_count)[0]\n",
    "        \n",
    "        if len(majority_classes) == 1:\n",
    "            predicted_class = majority_classes[0]\n",
    "        else:\n",
    "            total_distances = []\n",
    "            for cls in majority_classes:\n",
    "                total_distance = np.sum(k_neighbors_distances[k_neighbors_classes == cls])\n",
    "                total_distances.append((cls, total_distance))\n",
    "\n",
    "            predicted_class = min(total_distances, key=lambda x: x[1])[0]\n",
    "\n",
    "        y_pred.append(predicted_class)\n",
    "\n",
    "    return np.array(y_pred)\n"
   ]
  },
  {
   "cell_type": "code",
   "execution_count": 14,
   "id": "60fb2ebf",
   "metadata": {},
   "outputs": [
    {
     "name": "stdout",
     "output_type": "stream",
     "text": [
      "k=1, Accuracy (Euclidean): 1.0\n",
      "k=5, Accuracy (Euclidean): 1.0\n",
      "k=20, Accuracy (Euclidean): 1.0\n",
      "k=50, Accuracy (Euclidean): 1.0\n"
     ]
    }
   ],
   "source": [
    "ks = [1, 5, 20, 50]\n",
    "for k in ks:\n",
    "    y_pred = knn(X_train, X_test, y_train, k, euclidean_distance)\n",
    "    accuracy = np.sum(y_pred == y_test) / len(y_test)\n",
    "    print(f\"k={k}, Accuracy (Euclidean): {accuracy}\")"
   ]
  },
  {
   "cell_type": "markdown",
   "id": "c8de417f",
   "metadata": {},
   "source": [
    "### KNN with Cosine Distance\n",
    "\n",
    "In this implementation, we use the K-Nearest Neighbors (KNN) algorithm with **cosine distance** as the distance metric to classify test samples.\n",
    "\n",
    "#### 📌 Overview\n",
    "- **KNN** is a simple yet powerful non-parametric classifier.  \n",
    "- For each test point, it finds the $k$ closest training points (neighbors) based on a distance metric.  \n",
    "- The predicted class is determined by majority voting among these neighbors.\n",
    "\n",
    "#### 🚀 Why Cosine Distance?\n",
    "- Unlike Euclidean distance, which measures absolute distance in space, **cosine distance** measures the **angular difference** between vectors.\n",
    "- It is especially useful when the **magnitude** of the vectors is less important than their **orientation**, for example in text data or high-dimensional sparse data.\n",
    "\n",
    "#### ⚙️ Algorithm Steps\n",
    "1. For each test sample, compute the **cosine distance** to all training samples.\n",
    "2. Select the $k$ training samples with the smallest cosine distances (i.e., highest cosine similarity).\n",
    "3. Determine the majority class among these $k$ neighbors.\n",
    "4. If there is a tie (multiple classes with the same count), choose the class whose neighbors have the **smallest total distance** to the test point.\n",
    "\n",
    "#### 📝 Cosine Distance Formula\n",
    "\n",
    "$$\n",
    "\\text{cosine\\_distance}(A, B) = 1 - \\frac{A \\cdot B}{\\|A\\| \\|B\\|}\n",
    "$$\n",
    "\n",
    "#### ✅ Advantages\n",
    "- Works well in high-dimensional spaces where Euclidean distance may become less informative (curse of dimensionality).\n",
    "- Focuses on the **direction** of the vectors, making it robust to differences in scale.\n"
   ]
  },
  {
   "cell_type": "code",
   "execution_count": 15,
   "id": "9a5d1f95",
   "metadata": {},
   "outputs": [],
   "source": [
    "def cosine_distance(a, b):\n",
    "    return 1 - np.dot(a, b)/(np.linalg.norm(a) * np.linalg.norm(b))"
   ]
  },
  {
   "cell_type": "code",
   "execution_count": 16,
   "id": "246f3289",
   "metadata": {},
   "outputs": [
    {
     "name": "stdout",
     "output_type": "stream",
     "text": [
      "k=1, Accuracy (Euclidean): 1.0\n",
      "k=5, Accuracy (Euclidean): 1.0\n",
      "k=20, Accuracy (Euclidean): 1.0\n",
      "k=50, Accuracy (Euclidean): 1.0\n"
     ]
    }
   ],
   "source": [
    "ks = [1, 5, 20, 50]\n",
    "for k in ks:\n",
    "    y_pred = knn(X_train, X_test, y_train, k, cosine_distance)\n",
    "    accuracy = np.sum(y_pred == y_test) / len(y_test)\n",
    "    print(f\"k={k}, Accuracy (Euclidean): {accuracy}\")"
   ]
  },
  {
   "cell_type": "markdown",
   "id": "ba4f382c",
   "metadata": {},
   "source": [
    "### Adding Gaussian Noise to Training and Test Data\n",
    "\n",
    "In this section, we add Gaussian noise to the training and test datasets to simulate the effect of measurement errors or natural variability in data. This is a common technique to test the robustness of machine learning models against small perturbations.\n",
    "\n",
    "#### 📌 Steps:\n",
    "1. **Generate noise for training data:**\n",
    "   - Draw samples from a normal distribution with mean `0` and standard deviation `0.1`.\n",
    "   - Shape: `(number of training samples, 1)`.\n",
    "\n",
    "2. **Pad the noise:**\n",
    "   - Concatenate zeros to the generated noise along the feature dimension to ensure the noise only affects the first feature.\n",
    "   - This results in noise of shape `(number of training samples, number of features)`.\n",
    "\n",
    "3. **Add noise to the original data:**\n",
    "   - The noisy training data is obtained by simple addition.\n",
    "\n",
    "4. **Repeat the same process for the test data.**\n"
   ]
  },
  {
   "cell_type": "code",
   "execution_count": 17,
   "id": "4de88a1b",
   "metadata": {},
   "outputs": [
    {
     "name": "stdout",
     "output_type": "stream",
     "text": [
      "(3200, 2)\n",
      "(800, 2)\n"
     ]
    }
   ],
   "source": [
    "noise = np.random.normal(0, 0.1, size=(X_train.shape[0], 1))\n",
    "noise = np.c_[noise, np.zeros(X_train.shape[0])]\n",
    "X_train_noisy = X_train + noise\n",
    "\n",
    "noise = np.random.normal(0, 0.1, size=(X_test.shape[0], 1))\n",
    "noise = np.c_[noise, np.zeros(X_test.shape[0])]\n",
    "X_test_noisy = X_test + noise\n",
    "\n",
    "print(X_train_noisy.shape)\n",
    "print(X_test_noisy.shape)"
   ]
  },
  {
   "cell_type": "code",
   "execution_count": 23,
   "id": "a358135b",
   "metadata": {},
   "outputs": [],
   "source": [
    "column_names = ['X1', 'X2', 'class']\n",
    "df = pd.DataFrame(np.c_[X_train_noisy, y_train], columns=column_names)"
   ]
  },
  {
   "cell_type": "code",
   "execution_count": 28,
   "id": "bfb57c8a",
   "metadata": {},
   "outputs": [
    {
     "data": {
      "image/png": "[encoded data removed]",
      "text/plain": [
       "<Figure size 800x400 with 1 Axes>"
      ]
     },
     "metadata": {},
     "output_type": "display_data"
    }
   ],
   "source": [
    "plt.figure(figsize=(8, 4))\n",
    "sns.scatterplot(data=df,x='X1', y='X2', hue='class', palette='muted')\n",
    "plt.xlabel(\"x1\")\n",
    "plt.ylabel(\"x2\")\n",
    "plt.title(\"Samples from Class X and Y of train noisy dataset\")\n",
    "plt.legend()\n",
    "plt.grid(True)\n",
    "plt.show()"
   ]
  },
  {
   "cell_type": "code",
   "execution_count": 31,
   "id": "c02d6c90",
   "metadata": {},
   "outputs": [
    {
     "name": "stdout",
     "output_type": "stream",
     "text": [
      "k=1, Accuracy (Euclidean): 0.94625\n",
      "k=5, Accuracy (Euclidean): 0.95625\n",
      "k=20, Accuracy (Euclidean): 0.96125\n",
      "k=50, Accuracy (Euclidean): 0.965\n"
     ]
    }
   ],
   "source": [
    "ks = [1, 5, 20, 50]\n",
    "for k in ks:\n",
    "    y_pred = knn(X_train_noisy, X_test_noisy, y_train, k, euclidean_distance)\n",
    "    accuracy = np.sum(y_pred == y_test) / len(y_test)\n",
    "    print(f\"k={k}, Accuracy (Euclidean): {accuracy}\")"
   ]
  },
  {
   "cell_type": "markdown",
   "id": "39366e3e",
   "metadata": {},
   "source": [
    "### Generating a Synthetic Imbalanced Dataset\n",
    "\n",
    "In this section, we generate a synthetic dataset with two classes to simulate an **imbalanced classification problem**.\n",
    "\n",
    "#### 📌 Dataset Characteristics\n",
    "- **Class 0**\n",
    "  - Number of samples: `10,000`\n",
    "  - Feature `X1` sampled uniformly from `[0, 1]`.\n",
    "  - Feature `X2` is set to `0`.\n",
    "- **Class 1**\n",
    "  - Number of samples: `1,000`\n",
    "  - Feature `X1` sampled uniformly from `[-1, 0]`.\n",
    "  - Feature `X2` is set to `0`.\n",
    "\n",
    "This creates two distinct distributions in the feature space with a **class imbalance ratio of 10:1**.\n"
   ]
  },
  {
   "cell_type": "code",
   "execution_count": 32,
   "id": "db6853f8",
   "metadata": {},
   "outputs": [
    {
     "name": "stdout",
     "output_type": "stream",
     "text": [
      "(11000, 2)\n",
      "(11000,)\n"
     ]
    }
   ],
   "source": [
    "n_samples0 = 10000\n",
    "n_samples1 = 1000\n",
    "\n",
    "class0_data = np.random.uniform(0, 1, size=(n_samples0, 1))\n",
    "class0_data = np.c_[class0_data, np.zeros(n_samples0)]\n",
    "\n",
    "class1_data = np.random.uniform(-1, 0, size=(n_samples1, 1))\n",
    "class1_data = np.c_[class1_data, np.zeros(n_samples1)]\n",
    "\n",
    "X = np.vstack([class0_data, class1_data])\n",
    "y = np.array([0] * n_samples0 + [1] * n_samples1)\n",
    "\n",
    "print(X.shape)\n",
    "print(y.shape)"
   ]
  },
  {
   "cell_type": "code",
   "execution_count": 33,
   "id": "90989b23",
   "metadata": {},
   "outputs": [],
   "source": [
    "indices = list(range(X.shape[0]))\n",
    "np.random.shuffle(indices)\n",
    "X = X[indices]\n",
    "y = y[indices]"
   ]
  },
  {
   "cell_type": "code",
   "execution_count": 34,
   "id": "d5d0b826",
   "metadata": {},
   "outputs": [
    {
     "name": "stdout",
     "output_type": "stream",
     "text": [
      "(8800, 2) (2200, 2)\n",
      "(8800,) (2200,)\n"
     ]
    }
   ],
   "source": [
    "X_train, X_test, y_train, y_test = train_test_split(X, y, test_size=0.2, shuffle=True)\n",
    "\n",
    "print(X_train.shape, X_test.shape)  \n",
    "print(y_train.shape, y_test.shape)  \n"
   ]
  },
  {
   "cell_type": "code",
   "execution_count": 35,
   "id": "dfe0ada7",
   "metadata": {},
   "outputs": [],
   "source": [
    "column_names = ['X1', 'X2', 'class']\n",
    "df_imbalanced = pd.DataFrame(np.c_[X, y], columns=column_names)"
   ]
  },
  {
   "cell_type": "code",
   "execution_count": 49,
   "id": "5b454b7a",
   "metadata": {},
   "outputs": [
    {
     "data": {
      "image/png": "[encoded data removed]",
      "text/plain": [
       "<Figure size 800x400 with 1 Axes>"
      ]
     },
     "metadata": {},
     "output_type": "display_data"
    }
   ],
   "source": [
    "plt.figure(figsize=(8, 4))\n",
    "sns.scatterplot(data=df_imbalanced,x='X1', y='X2', hue='class', palette='muted')\n",
    "plt.xlabel(\"x1\")\n",
    "plt.ylabel(\"x2\")\n",
    "plt.title(\"Samples from Class 0 and 1- Imbalanced data \")\n",
    "plt.legend()\n",
    "plt.grid(True)\n",
    "plt.show()"
   ]
  },
  {
   "cell_type": "code",
   "execution_count": 47,
   "id": "b310ca7b",
   "metadata": {},
   "outputs": [
    {
     "name": "stdout",
     "output_type": "stream",
     "text": [
      "{0: 10000, 1: 1000}\n"
     ]
    }
   ],
   "source": [
    "classes, counts = np.unique(y, return_counts=True)\n",
    "print(dict(zip(classes, counts)))"
   ]
  },
  {
   "cell_type": "code",
   "execution_count": 48,
   "id": "cebc1c32",
   "metadata": {},
   "outputs": [
    {
     "name": "stdout",
     "output_type": "stream",
     "text": [
      "k=1, Accuracy (Euclidean): 1.0\n",
      "k=5, Accuracy (Euclidean): 1.0\n",
      "k=20, Accuracy (Euclidean): 1.0\n",
      "k=50, Accuracy (Euclidean): 1.0\n"
     ]
    }
   ],
   "source": [
    "ks = [1, 5, 20, 50]\n",
    "for k in ks:\n",
    "    y_pred = knn(X_train, X_test, y_train, k, euclidean_distance)\n",
    "    accuracy = np.sum(y_pred == y_test) / len(y_test)\n",
    "    print(f\"k={k}, Accuracy (Euclidean): {accuracy}\")"
   ]
  },
  {
   "cell_type": "code",
   "execution_count": null,
   "id": "6f982fc5",
   "metadata": {},
   "outputs": [],
   "source": []
  }
 ],
 "metadata": {
  "kernelspec": {
   "display_name": "py312",
   "language": "python",
   "name": "python3"
  },
  "language_info": {
   "codemirror_mode": {
    "name": "ipython",
    "version": 3
   },
   "file_extension": ".py",
   "mimetype": "text/x-python",
   "name": "python",
   "nbconvert_exporter": "python",
   "pygments_lexer": "ipython3",
   "version": "3.12.2"
  }
 },
 "nbformat": 4,
 "nbformat_minor": 5
}
