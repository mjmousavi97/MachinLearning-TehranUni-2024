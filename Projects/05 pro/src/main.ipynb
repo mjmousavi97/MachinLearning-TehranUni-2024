{
 "cells": [
  {
   "cell_type": "code",
   "execution_count": 1,
   "id": "6e74612e",
   "metadata": {},
   "outputs": [],
   "source": [
    "import numpy as np\n",
    "import matplotlib.pyplot as plt\n",
    "import random\n",
    "from sklearn.model_selection import train_test_split"
   ]
  },
  {
   "cell_type": "code",
   "execution_count": 2,
   "id": "453eead4",
   "metadata": {},
   "outputs": [],
   "source": [
    "np.random.seed(42)\n",
    "random.seed(42)"
   ]
  },
  {
   "cell_type": "code",
   "execution_count": 3,
   "id": "6bf42b7d",
   "metadata": {},
   "outputs": [],
   "source": [
    "n_samples = 2000\n",
    "\n",
    "u = np.random.uniform(0, 1, n_samples)\n",
    "X = np.column_stack((u, np.zeros(n_samples)))\n",
    "\n",
    "z = np.random.uniform(-1, 0, n_samples)\n",
    "Y = np.column_stack((z, np.zeros(n_samples)))"
   ]
  },
  {
   "cell_type": "code",
   "execution_count": 5,
   "id": "8355681f",
   "metadata": {},
   "outputs": [
    {
     "data": {
      "image/png": "[encoded data removed]",
      "text/plain": [
       "<Figure size 800x400 with 1 Axes>"
      ]
     },
     "metadata": {},
     "output_type": "display_data"
    }
   ],
   "source": [
    "plt.figure(figsize=(8, 4))\n",
    "plt.scatter(X[:, 0], X[:, 1], color='blue', label='Class X', alpha=0.5)\n",
    "plt.scatter(Y[:, 0], Y[:, 1], color='red', label='Class Y', alpha=0.1)\n",
    "plt.xlabel(\"x1\")\n",
    "plt.ylabel(\"x2\")\n",
    "plt.title(\"Samples from Class X and Y\")\n",
    "plt.legend()\n",
    "plt.grid(True)\n",
    "plt.show()"
   ]
  },
  {
   "cell_type": "code",
   "execution_count": 9,
   "id": "e994fcdb",
   "metadata": {},
   "outputs": [
    {
     "name": "stdout",
     "output_type": "stream",
     "text": [
      "(4000, 2)\n",
      "(4000,)\n"
     ]
    }
   ],
   "source": [
    "X_data = np.vstack([X, Y])\n",
    "y = np.array([0] * n_samples + [1] * n_samples)\n",
    "\n",
    "print(X_data.shape)\n",
    "print(y.shape)"
   ]
  },
  {
   "cell_type": "code",
   "execution_count": 14,
   "id": "1e5a62cb",
   "metadata": {},
   "outputs": [
    {
     "name": "stdout",
     "output_type": "stream",
     "text": [
      "(4000, 2)\n",
      "(4000,)\n"
     ]
    }
   ],
   "source": [
    "indices = list(range(X_data.shape[0]))\n",
    "np.random.shuffle(indices)\n",
    "\n",
    "X = X_data[indices]\n",
    "y = y[indices]\n",
    "\n",
    "print(X.shape)\n",
    "print(y.shape)"
   ]
  },
  {
   "cell_type": "markdown",
   "id": "35dc5624",
   "metadata": {},
   "source": [
    "### Splitting Data"
   ]
  },
  {
   "cell_type": "code",
   "execution_count": null,
   "id": "8a9d2e8c",
   "metadata": {},
   "outputs": [
    {
     "name": "stdout",
     "output_type": "stream",
     "text": [
      "(3200, 2) (800, 2)\n",
      "(3200,) (800,)\n"
     ]
    }
   ],
   "source": [
    "X_train, X_test, y_train, y_test = train_test_split(X, y, test_size=0.2, shuffle=True)\n",
    "\n",
    "print(X_train.shape, X_test.shape)  \n",
    "print(y_train.shape, y_test.shape)  \n"
   ]
  },
  {
   "cell_type": "markdown",
   "id": "6aa481aa",
   "metadata": {},
   "source": [
    "## 📌 k-Nearest Neighbors (KNN) Classifier\n",
    "\n",
    "**k-Nearest Neighbors (KNN)** is a simple, yet powerful, non-parametric supervised learning algorithm used for both classification and regression tasks. It is an **instance-based** or **lazy learner**, meaning it does not build an explicit model but makes predictions based on the entire training data.\n",
    "\n",
    "### 🔢 How KNN Works (for Classification):\n",
    "\n",
    "1. For a given test point, calculate its distance to all training samples using a distance metric (in our case, **Euclidean distance**).\n",
    "2. Select the **k nearest neighbors** (samples with the smallest distances).\n",
    "3. Assign the class label that is **most frequent** among these k neighbors.\n",
    "\n",
    "### 📐 Euclidean Distance Formula:\n",
    "\n",
    "For two vectors $ \\mathbf{x} = [x_1, x_2] $ and $ \\mathbf{y} = [y_1, y_2] $, the Euclidean distance is:\n",
    "\n",
    "$$\n",
    "d(\\mathbf{x}, \\mathbf{y}) = \\sqrt{(x_1 - y_1)^2 + (x_2 - y_2)^2}\n",
    "$$\n",
    "\n",
    "### 🎯 Choice of k:\n",
    "\n",
    "- $k = 1$: very flexible, but may lead to **overfitting**.\n",
    "- Larger $k$: smoother decision boundary, better generalization, but may cause **underfitting**.\n",
    "- The **optimal value of k** is usually chosen using cross-validation.\n",
    "\n",
    "### ✅ Evaluation Metric: Accuracy\n",
    "\n",
    "After predicting labels for the test set, we compute **accuracy** as:\n",
    "\n",
    "$$\n",
    "\\text{Accuracy} = \\frac{\\text{Number of correct predictions}}{\\text{Total number of predictions}}\n",
    "$$\n",
    "\n",
    "We will evaluate the KNN classifier with the following values of $k$: **1, 5, 20, 50**, and report the accuracy on the test data.\n"
   ]
  },
  {
   "cell_type": "markdown",
   "id": "b1ff1e68",
   "metadata": {},
   "source": []
  }
 ],
 "metadata": {
  "kernelspec": {
   "display_name": "py312",
   "language": "python",
   "name": "python3"
  },
  "language_info": {
   "codemirror_mode": {
    "name": "ipython",
    "version": 3
   },
   "file_extension": ".py",
   "mimetype": "text/x-python",
   "name": "python",
   "nbconvert_exporter": "python",
   "pygments_lexer": "ipython3",
   "version": "3.12.2"
  }
 },
 "nbformat": 4,
 "nbformat_minor": 5
}
